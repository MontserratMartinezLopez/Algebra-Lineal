{
  "nbformat": 4,
  "nbformat_minor": 0,
  "metadata": {
    "colab": {
      "provenance": [],
      "include_colab_link": true
    },
    "kernelspec": {
      "name": "python3",
      "display_name": "Python 3"
    },
    "language_info": {
      "name": "python"
    }
  },
  "cells": [
    {
      "cell_type": "markdown",
      "metadata": {
        "id": "view-in-github",
        "colab_type": "text"
      },
      "source": [
        "<a href=\"https://colab.research.google.com/github/MontserratMartinezLopez/Algebra-Lineal/blob/main/Tarea4.ipynb\" target=\"_parent\"><img src=\"https://colab.research.google.com/assets/colab-badge.svg\" alt=\"Open In Colab\"/></a>"
      ]
    },
    {
      "cell_type": "code",
      "execution_count": 1,
      "metadata": {
        "id": "uisCXUFKkJE-",
        "colab": {
          "base_uri": "https://localhost:8080/"
        },
        "outputId": "236aa0ae-a971-49c7-84f5-25b0df43c7a9"
      },
      "outputs": [
        {
          "output_type": "stream",
          "name": "stdout",
          "text": [
            "Collecting nacal\n",
            "  Downloading nacal-0.1.30-py3-none-any.whl (33 kB)\n",
            "Requirement already satisfied: sympy>=1.1.0 in /usr/local/lib/python3.10/dist-packages (from nacal) (1.12)\n",
            "Requirement already satisfied: mpmath>=0.19 in /usr/local/lib/python3.10/dist-packages (from sympy>=1.1.0->nacal) (1.3.0)\n",
            "Installing collected packages: nacal\n",
            "Successfully installed nacal-0.1.30\n"
          ]
        }
      ],
      "source": [
        "!pip install --target=$nb_path nacal\n",
        "from nacal import *\n",
        "from IPython.display import display, Math, Latex"
      ]
    },
    {
      "cell_type": "markdown",
      "metadata": {
        "id": "LiJ1aW_Nj1X5"
      },
      "source": [
        "### Primer ejercicio\n",
        "\n"
      ]
    },
    {
      "cell_type": "markdown",
      "metadata": {
        "id": "roLWrzwXj1X6"
      },
      "source": [
        "Cree la matriz\n",
        "$${A}=\\begin{bmatrix}1&0&0&0\\\\2&0&0&0\\\\0&3&3&0\\\\0&3&4&1\\\\0&1&2&1\\end{bmatrix}$$\n",
        "\n"
      ]
    },
    {
      "cell_type": "code",
      "source": [
        "a = Vector([1,2,0,0,0])\n",
        "b = Vector([0,0,3,3,1])\n",
        "c = Vector([0,0,3,4,2])\n",
        "d = Vector([0,0,0,1,1])\n",
        "A = Matrix([a,b,c,d])\n",
        "Latex(latex(A))"
      ],
      "metadata": {
        "id": "aptVBvt0ks39",
        "colab": {
          "base_uri": "https://localhost:8080/",
          "height": 0
        },
        "outputId": "8eb28751-63eb-4296-9a16-f8fd325c383d"
      },
      "execution_count": 3,
      "outputs": [
        {
          "output_type": "execute_result",
          "data": {
            "text/plain": [
              "<IPython.core.display.Latex object>"
            ],
            "text/latex": "\\left[ \\begin{array}{cccc}1&0&0&0\\\\2&0&0&0\\\\0&3&3&0\\\\0&3&4&1\\\\0&1&2&1\\\\ \\end{array} \\right]"
          },
          "metadata": {},
          "execution_count": 3
        }
      ]
    },
    {
      "cell_type": "markdown",
      "metadata": {
        "id": "uXXsQDPtj1X6"
      },
      "source": [
        "Cree a partir de ${A}$ una matriz cuya única columna sea la\n",
        "primera columna de ${A}$\n",
        "\n"
      ]
    },
    {
      "cell_type": "code",
      "source": [
        "A1 = Matrix([A|1])\n",
        "Latex(latex(A1))"
      ],
      "metadata": {
        "id": "4ks9WtQ2k1zI",
        "colab": {
          "base_uri": "https://localhost:8080/",
          "height": 0
        },
        "outputId": "edad4aba-0237-430b-8226-07d61faea6b5"
      },
      "execution_count": 12,
      "outputs": [
        {
          "output_type": "execute_result",
          "data": {
            "text/plain": [
              "<IPython.core.display.Latex object>"
            ],
            "text/latex": "\\left[ \\begin{array}{c}1\\\\2\\\\0\\\\0\\\\0\\\\ \\end{array} \\right]"
          },
          "metadata": {},
          "execution_count": 12
        }
      ]
    },
    {
      "cell_type": "markdown",
      "metadata": {
        "id": "M8GNqqerj1X7"
      },
      "source": [
        "Cree a partir de ${A}$ una matriz cuya única columna sea la segunda\n",
        "fila de ${A}$\n",
        "\n"
      ]
    },
    {
      "cell_type": "code",
      "source": [
        "A2 = Matrix([2|A])\n",
        "Latex(latex(A2))"
      ],
      "metadata": {
        "id": "G13H5wEAlBM-",
        "colab": {
          "base_uri": "https://localhost:8080/",
          "height": 0
        },
        "outputId": "af6ea9c2-1523-4bbe-f235-c8c9083e1d30"
      },
      "execution_count": 11,
      "outputs": [
        {
          "output_type": "execute_result",
          "data": {
            "text/plain": [
              "<IPython.core.display.Latex object>"
            ],
            "text/latex": "\\left[ \\begin{array}{c}2\\\\0\\\\0\\\\0\\\\ \\end{array} \\right]"
          },
          "metadata": {},
          "execution_count": 11
        }
      ]
    },
    {
      "cell_type": "markdown",
      "metadata": {
        "id": "AKjPfZxaj1X8"
      },
      "source": [
        "<div class=\"EXERCISE\">\n",
        "Cree a partir de $A$ una matriz cuya única fila sea la primera\n",
        "fila de $A$\n",
        "\n",
        "</div>\n",
        "\n"
      ]
    },
    {
      "cell_type": "code",
      "source": [
        "A3=Matrix([1|A])\n",
        "A3=~A3\n",
        "Latex(latex(A3))"
      ],
      "metadata": {
        "id": "d0omQE0rlGMW",
        "colab": {
          "base_uri": "https://localhost:8080/",
          "height": 0
        },
        "outputId": "642dccb9-bc1d-4afb-d97d-3957d5371ad3"
      },
      "execution_count": 16,
      "outputs": [
        {
          "output_type": "execute_result",
          "data": {
            "text/plain": [
              "<IPython.core.display.Latex object>"
            ],
            "text/latex": "\\left[ \\begin{array}{cccc}1&0&0&0\\\\ \\end{array} \\right]"
          },
          "metadata": {},
          "execution_count": 16
        }
      ]
    },
    {
      "cell_type": "markdown",
      "metadata": {
        "id": "BaPPzRJjj1X9"
      },
      "source": [
        "### Segundo ejercicio\n",
        "\n"
      ]
    },
    {
      "cell_type": "markdown",
      "metadata": {
        "id": "96CPH5a_j1X9"
      },
      "source": [
        "Calcule el siguiente vector: 3 veces la primera columna de $A$\n",
        "menos la segunda columna de $A$ mas 2 veces la tercera columna\n",
        "menos 3 veces la última columna de $A$\n",
        "\n"
      ]
    },
    {
      "cell_type": "code",
      "source": [
        "calc=(3*A|1)-(A|2)+(2*A|3)-(3*A|4)\n",
        "Latex(latex(calc))"
      ],
      "metadata": {
        "id": "frH6ZOYnmErd",
        "colab": {
          "base_uri": "https://localhost:8080/",
          "height": 119
        },
        "outputId": "f34a9970-5268-4703-8bec-a511a4ab51ae"
      },
      "execution_count": 17,
      "outputs": [
        {
          "output_type": "execute_result",
          "data": {
            "text/plain": [
              "<IPython.core.display.Latex object>"
            ],
            "text/latex": "\\begin{pmatrix}3\\\\ 6\\\\ 3\\\\ 2\\\\ 0\\end{pmatrix}"
          },
          "metadata": {},
          "execution_count": 17
        }
      ]
    },
    {
      "cell_type": "markdown",
      "metadata": {
        "id": "MxEQJrEKj1X-"
      },
      "source": [
        "### Tercer ejercicio\n",
        "\n"
      ]
    },
    {
      "cell_type": "markdown",
      "metadata": {
        "id": "dsc0wXPHj1YA"
      },
      "source": [
        "Proporcione ejemplos de matrices 3 por 3 no nulas de los siguientes\n",
        "tipos de matrices:\n",
        "\n",
        "-   Una matriz diagonal\n",
        "\n"
      ]
    },
    {
      "cell_type": "code",
      "source": [
        "a=Vector([1,0,0])\n",
        "b=Vector([0,2,0])\n",
        "c=Vector([0,0,3])\n",
        "B=Matrix([a,b,c])\n",
        "Latex(latex(B))"
      ],
      "metadata": {
        "id": "T6blJI3YmQt1",
        "colab": {
          "base_uri": "https://localhost:8080/",
          "height": 78
        },
        "outputId": "82f8f881-d914-4770-b079-738b537e9de3"
      },
      "execution_count": 19,
      "outputs": [
        {
          "output_type": "execute_result",
          "data": {
            "text/plain": [
              "<IPython.core.display.Latex object>"
            ],
            "text/latex": "\\left[ \\begin{array}{ccc}1&0&0\\\\0&2&0\\\\0&0&3\\\\ \\end{array} \\right]"
          },
          "metadata": {},
          "execution_count": 19
        }
      ]
    },
    {
      "cell_type": "markdown",
      "metadata": {
        "id": "j5rXy3Waj1YA"
      },
      "source": [
        "-   Una matriz simétrica\n",
        "\n"
      ]
    },
    {
      "cell_type": "code",
      "source": [
        "a=Vector([1,2,3])\n",
        "b=Vector([2,5,0])\n",
        "c=Vector([3,0,5])\n",
        "B=Matrix([a,b,c])\n",
        "Latex(latex(B))"
      ],
      "metadata": {
        "id": "zDghbArCmQ-v",
        "colab": {
          "base_uri": "https://localhost:8080/",
          "height": 78
        },
        "outputId": "92688474-62a9-4910-8c70-55a700496b28"
      },
      "execution_count": 20,
      "outputs": [
        {
          "output_type": "execute_result",
          "data": {
            "text/plain": [
              "<IPython.core.display.Latex object>"
            ],
            "text/latex": "\\left[ \\begin{array}{ccc}1&2&3\\\\2&5&0\\\\3&0&5\\\\ \\end{array} \\right]"
          },
          "metadata": {},
          "execution_count": 20
        }
      ]
    },
    {
      "cell_type": "markdown",
      "metadata": {
        "id": "UHEAMjHQj1YB"
      },
      "source": [
        "-   Una matriz triangular superior (es decir, que todos los elementos\n",
        "    por *debajo* de la diagonal son nulos).\n",
        "\n"
      ]
    },
    {
      "cell_type": "code",
      "source": [
        "a=Vector([1,0,0])\n",
        "b=Vector([2,5,0])\n",
        "c=Vector([3,0,5])\n",
        "B=Matrix([a,b,c])\n",
        "Latex(latex(B))"
      ],
      "metadata": {
        "id": "WIJVEVe2mV0E",
        "colab": {
          "base_uri": "https://localhost:8080/",
          "height": 78
        },
        "outputId": "c28687b5-28a1-4068-9d38-4dcebc07e5f7"
      },
      "execution_count": 21,
      "outputs": [
        {
          "output_type": "execute_result",
          "data": {
            "text/plain": [
              "<IPython.core.display.Latex object>"
            ],
            "text/latex": "\\left[ \\begin{array}{ccc}1&2&3\\\\0&5&0\\\\0&0&5\\\\ \\end{array} \\right]"
          },
          "metadata": {},
          "execution_count": 21
        }
      ]
    },
    {
      "cell_type": "markdown",
      "metadata": {
        "id": "3y1hiNo_j1YC"
      },
      "source": [
        "-   Una matriz antisimétrica (es decir, que su transpuesta es igual a su opuesta: $ {A}^{T}=-A $ ).\n",
        "\n"
      ]
    },
    {
      "cell_type": "code",
      "source": [
        "a=Vector([0,-1,-2])\n",
        "b=Vector([1,0,-3])\n",
        "c=Vector([2,3,0])\n",
        "B=Matrix([a,b,c])\n",
        "display(Latex(latex(~B)))\n",
        "display(Latex(latex(-B)))"
      ],
      "metadata": {
        "colab": {
          "base_uri": "https://localhost:8080/",
          "height": 139
        },
        "id": "qn-uZREC3i1E",
        "outputId": "7c4c4d83-7b83-4f6a-85ec-977decf4b1b7"
      },
      "execution_count": 23,
      "outputs": [
        {
          "output_type": "display_data",
          "data": {
            "text/plain": [
              "<IPython.core.display.Latex object>"
            ],
            "text/latex": "\\left[ \\begin{array}{ccc}0&-1&-2\\\\1&0&-3\\\\2&3&0\\\\ \\end{array} \\right]"
          },
          "metadata": {}
        },
        {
          "output_type": "display_data",
          "data": {
            "text/plain": [
              "<IPython.core.display.Latex object>"
            ],
            "text/latex": "\\left[ \\begin{array}{ccc}0&-1&-2\\\\1&0&-3\\\\2&3&0\\\\ \\end{array} \\right]"
          },
          "metadata": {}
        }
      ]
    },
    {
      "cell_type": "markdown",
      "source": [
        "### Cuarto ejercicio"
      ],
      "metadata": {
        "id": "Y-n7DWXJn7Zk"
      }
    },
    {
      "cell_type": "markdown",
      "metadata": {
        "ein.tags": "worksheet-0",
        "id": "053nn7kNnOXz"
      },
      "source": [
        "# Propiedades del producto Matriz por vector\n",
        "\n",
        "Genere una matriz $A$ (con el número de filas y columnas que\n",
        "desee) y dos vectores ${b}$ y ${c}$ con tantos componentes\n",
        "como columnas tenga $A$."
      ]
    },
    {
      "cell_type": "code",
      "execution_count": 29,
      "metadata": {
        "autoscroll": false,
        "ein.hycell": false,
        "ein.tags": "worksheet-0",
        "id": "MU-2x1n8Vpzq",
        "colab": {
          "base_uri": "https://localhost:8080/",
          "height": 119
        },
        "outputId": "86ef2654-fd82-4af8-f2f4-bde9f0bcba29"
      },
      "outputs": [
        {
          "output_type": "execute_result",
          "data": {
            "text/plain": [
              "<IPython.core.display.Latex object>"
            ],
            "text/latex": "\\left[ \\begin{array}{cccc}1&7&8&9\\\\2&5&9&2\\\\3&3&3&6\\\\4&3&4&1\\\\5&1&2&1\\\\ \\end{array} \\right]"
          },
          "metadata": {},
          "execution_count": 29
        }
      ],
      "source": [
        "# Defina una matriz A\n",
        "a = Vector([1,2,3,4,5])\n",
        "b = Vector([7,5,3,3,1])\n",
        "c = Vector([8,9,3,4,2])\n",
        "d = Vector([9,2,6,1,1])\n",
        "A = Matrix([a,b,c,d])\n",
        "Latex(latex(A))"
      ]
    },
    {
      "cell_type": "code",
      "execution_count": 34,
      "metadata": {
        "autoscroll": false,
        "ein.hycell": false,
        "ein.tags": "worksheet-0",
        "id": "uoVFYfjqVpzq"
      },
      "outputs": [],
      "source": [
        "# Defina el vector b con tantos componentes como columnas tenga la matriz A\n",
        "b = Vector([7,5,3,3])"
      ]
    },
    {
      "cell_type": "code",
      "execution_count": 43,
      "metadata": {
        "autoscroll": false,
        "ein.hycell": false,
        "ein.tags": "worksheet-0",
        "id": "5HbLkf1LVpzr"
      },
      "outputs": [],
      "source": [
        "# Defina el vector c con tantos componentes como el vector b\n",
        "c = Vector([8,9,3,4])"
      ]
    },
    {
      "cell_type": "markdown",
      "metadata": {
        "ein.tags": "worksheet-0",
        "id": "HQu3l79dVpzr"
      },
      "source": [
        "Y ahora verifique las propiedades vistas en el curso (en todos los\n",
        "casos, verifique sus ejemplos también con lapiz y papel... recuerde\n",
        "que primero se realizan las operaciones encerradas entre paréntesis).\n",
        "\n",
        "$$ A({b}+{c}) = A{b} + A{c} $$"
      ]
    },
    {
      "cell_type": "code",
      "execution_count": 36,
      "metadata": {
        "autoscroll": false,
        "ein.hycell": false,
        "ein.tags": "worksheet-0",
        "id": "hOUqYCBHVpzr",
        "colab": {
          "base_uri": "https://localhost:8080/",
          "height": 119
        },
        "outputId": "b9547ffb-8f4c-4122-c769-e4d2a758fd38"
      },
      "outputs": [
        {
          "output_type": "execute_result",
          "data": {
            "text/plain": [
              "<IPython.core.display.Latex object>"
            ],
            "text/latex": "\\begin{pmatrix}224\\\\ 168\\\\ 147\\\\ 133\\\\ 108\\end{pmatrix}"
          },
          "metadata": {},
          "execution_count": 36
        }
      ],
      "source": [
        "# escriba aquí la parte izquierda de la ecuación: A*(b+c)\n",
        "Latex(latex(A*(b+c)))"
      ]
    },
    {
      "cell_type": "code",
      "execution_count": 37,
      "metadata": {
        "autoscroll": false,
        "ein.hycell": false,
        "ein.tags": "worksheet-0",
        "id": "86RAGkgoVpzs",
        "colab": {
          "base_uri": "https://localhost:8080/",
          "height": 119
        },
        "outputId": "a75ca64c-9e94-4ac7-8d64-de63246fe68f"
      },
      "outputs": [
        {
          "output_type": "execute_result",
          "data": {
            "text/plain": [
              "<IPython.core.display.Latex object>"
            ],
            "text/latex": "\\begin{pmatrix}224\\\\ 168\\\\ 147\\\\ 133\\\\ 108\\end{pmatrix}"
          },
          "metadata": {},
          "execution_count": 37
        }
      ],
      "source": [
        "# escriba aquí la parte derecha de la ecuación\n",
        "Latex(latex((A*b)+(A*c)))"
      ]
    },
    {
      "cell_type": "markdown",
      "source": [
        "### Quinto ejercicio"
      ],
      "metadata": {
        "id": "u0ri5khNnCKl"
      }
    },
    {
      "cell_type": "markdown",
      "metadata": {
        "ein.tags": "worksheet-0",
        "id": "9pvYQ32mVpzs"
      },
      "source": [
        "Decida un valor para el escalar $\\lambda$ y verifique que\n",
        "$$ A(\\lambda{b}) = \\lambda(A{b})$$"
      ]
    },
    {
      "cell_type": "code",
      "execution_count": 38,
      "metadata": {
        "autoscroll": false,
        "ein.hycell": false,
        "ein.tags": "worksheet-0",
        "id": "E4IN_Yy2Vpzs",
        "colab": {
          "base_uri": "https://localhost:8080/",
          "height": 119
        },
        "outputId": "d4058441-0ae7-4643-cbe3-173a1133af0a"
      },
      "outputs": [
        {
          "output_type": "execute_result",
          "data": {
            "text/plain": [
              "<IPython.core.display.Latex object>"
            ],
            "text/latex": "\\begin{pmatrix}651\\\\ 504\\\\ 441\\\\ 406\\\\ 343\\end{pmatrix}"
          },
          "metadata": {},
          "execution_count": 38
        }
      ],
      "source": [
        "# escriba aquí la parte izquierda de la ecuación\n",
        "esc_lambda = 7\n",
        "Latex(latex(A*(esc_lambda*b)))"
      ]
    },
    {
      "cell_type": "code",
      "execution_count": 39,
      "metadata": {
        "autoscroll": false,
        "ein.hycell": false,
        "ein.tags": "worksheet-0",
        "id": "Ceudy6FmVpzt",
        "colab": {
          "base_uri": "https://localhost:8080/",
          "height": 119
        },
        "outputId": "263c3a3e-2de3-4807-f8b3-6d9faa4455a1"
      },
      "outputs": [
        {
          "output_type": "execute_result",
          "data": {
            "text/plain": [
              "<IPython.core.display.Latex object>"
            ],
            "text/latex": "\\begin{pmatrix}651\\\\ 504\\\\ 441\\\\ 406\\\\ 343\\end{pmatrix}"
          },
          "metadata": {},
          "execution_count": 39
        }
      ],
      "source": [
        "# escriba aquí la parte derecha de la ecuación\n",
        "Latex(latex(esc_lambda*(A*b)))"
      ]
    },
    {
      "cell_type": "markdown",
      "metadata": {
        "ein.tags": "worksheet-0",
        "id": "OWAfF_SgVpzt"
      },
      "source": [
        "Verifique que\n",
        "$$ A(\\lambda{b}) = (\\lambda A){b}$$\n"
      ]
    },
    {
      "cell_type": "code",
      "execution_count": 40,
      "metadata": {
        "autoscroll": false,
        "ein.hycell": false,
        "ein.tags": "worksheet-0",
        "id": "ZRimSgGCVpzu",
        "colab": {
          "base_uri": "https://localhost:8080/",
          "height": 119
        },
        "outputId": "32b31d71-ae2e-401d-a9a0-e6415792b64f"
      },
      "outputs": [
        {
          "output_type": "execute_result",
          "data": {
            "text/plain": [
              "<IPython.core.display.Latex object>"
            ],
            "text/latex": "\\begin{pmatrix}651\\\\ 504\\\\ 441\\\\ 406\\\\ 343\\end{pmatrix}"
          },
          "metadata": {},
          "execution_count": 40
        }
      ],
      "source": [
        "# escriba aquí la parte derecha de la ecuación\n",
        "Latex(latex(A*(esc_lambda*b)))"
      ]
    },
    {
      "cell_type": "markdown",
      "metadata": {
        "ein.tags": "worksheet-0",
        "id": "YlRYLashVpzu"
      },
      "source": [
        "Compuebe que en este caso no son necesarios los paréntesis:\n",
        "$$\\lambda A{b}\\;$$ (aunque en Python siempre necesite\n",
        "escribir los símbolos de producto `*`). Pruebe a colocar el escalar en\n",
        "cualquier posición, pero mantenga la matriz a la izquierda del vector."
      ]
    },
    {
      "cell_type": "code",
      "execution_count": 41,
      "metadata": {
        "autoscroll": false,
        "ein.hycell": false,
        "ein.tags": "worksheet-0",
        "id": "8mmZwTxMVpzv",
        "colab": {
          "base_uri": "https://localhost:8080/",
          "height": 119
        },
        "outputId": "1a771af1-1ecc-42aa-f94a-bed9914467f9"
      },
      "outputs": [
        {
          "output_type": "execute_result",
          "data": {
            "text/plain": [
              "<IPython.core.display.Latex object>"
            ],
            "text/latex": "\\begin{pmatrix}651\\\\ 504\\\\ 441\\\\ 406\\\\ 343\\end{pmatrix}"
          },
          "metadata": {},
          "execution_count": 41
        }
      ],
      "source": [
        "# Por ejemplo 3*A*b, o A*3*b, o A*b*3\n",
        "Latex(latex(esc_lambda*A*b))"
      ]
    },
    {
      "cell_type": "markdown",
      "source": [
        "### Sexto ejercicio"
      ],
      "metadata": {
        "id": "nRqO8LxBoNSI"
      }
    },
    {
      "cell_type": "markdown",
      "metadata": {
        "ein.tags": "worksheet-0",
        "id": "VSZ8vItpVpzv"
      },
      "source": [
        "Genere una matriz ${B}$ del mismo orden que $A$"
      ]
    },
    {
      "cell_type": "code",
      "execution_count": 42,
      "metadata": {
        "autoscroll": false,
        "ein.hycell": false,
        "ein.tags": "worksheet-0",
        "id": "NkFmEED_Vpzw",
        "colab": {
          "base_uri": "https://localhost:8080/",
          "height": 119
        },
        "outputId": "bd336899-0b63-4d43-dde8-71ea6557362f"
      },
      "outputs": [
        {
          "output_type": "execute_result",
          "data": {
            "text/plain": [
              "<IPython.core.display.Latex object>"
            ],
            "text/latex": "\\left[ \\begin{array}{cccc}7&1&9&8\\\\5&2&2&9\\\\3&3&6&3\\\\3&4&1&4\\\\1&5&1&2\\\\ \\end{array} \\right]"
          },
          "metadata": {},
          "execution_count": 42
        }
      ],
      "source": [
        "a1 = Vector([1,2,3,4,5])\n",
        "b1 = Vector([7,5,3,3,1])\n",
        "c1 = Vector([8,9,3,4,2])\n",
        "d1 = Vector([9,2,6,1,1])\n",
        "B = Matrix([b1,a1,d1,c1])\n",
        "Latex(latex(B))"
      ]
    },
    {
      "cell_type": "markdown",
      "metadata": {
        "ein.tags": "worksheet-0",
        "id": "nqSTOOY0Vpzw"
      },
      "source": [
        "Verifique que\n",
        "\n",
        "$$ (A+B){c} = A{c} + B{c}$$"
      ]
    },
    {
      "cell_type": "code",
      "execution_count": 46,
      "metadata": {
        "autoscroll": false,
        "ein.hycell": false,
        "ein.tags": "worksheet-0",
        "id": "c1YZo_1NVpzx",
        "colab": {
          "base_uri": "https://localhost:8080/",
          "height": 136
        },
        "outputId": "9206318f-b775-4867-dd35-55e6a555d731"
      },
      "outputs": [
        {
          "output_type": "display_data",
          "data": {
            "text/plain": [
              "<IPython.core.display.Latex object>"
            ],
            "text/latex": "\\begin{pmatrix}255\\\\ 196\\\\ 165\\\\ 154\\\\ 123\\end{pmatrix}"
          },
          "metadata": {}
        },
        {
          "output_type": "stream",
          "name": "stdout",
          "text": [
            "Si son necesarios los parentesis\n"
          ]
        }
      ],
      "source": [
        "# escriba aquí la parte izquierda de la ecuación (¿funciona sin paréntesis?)\n",
        "display(Latex(latex((A+B)*c)))\n",
        "print(\"Si son necesarios los parentesis\")"
      ]
    },
    {
      "cell_type": "code",
      "execution_count": 47,
      "metadata": {
        "autoscroll": false,
        "ein.hycell": false,
        "ein.tags": "worksheet-0",
        "id": "2utRvpmSVpzx",
        "colab": {
          "base_uri": "https://localhost:8080/",
          "height": 119
        },
        "outputId": "35d96b8e-74e1-40cb-a623-21be3e20c3dc"
      },
      "outputs": [
        {
          "output_type": "display_data",
          "data": {
            "text/plain": [
              "<IPython.core.display.Latex object>"
            ],
            "text/latex": "\\begin{pmatrix}255\\\\ 196\\\\ 165\\\\ 154\\\\ 123\\end{pmatrix}"
          },
          "metadata": {}
        }
      ],
      "source": [
        "# escriba aquí la parte derecha de la ecuación\n",
        "display(Latex(latex((A*c)+(B*c))))"
      ]
    },
    {
      "cell_type": "markdown",
      "metadata": {
        "ein.tags": "worksheet-0",
        "id": "545Y5L3qVpz4"
      },
      "source": [
        "# Dos propiedades de la transposición\n",
        "\n",
        "Recuerde que `~A` es la transpuesta de `A`.\n",
        "\n",
        "Verfique que\n",
        "$$\n",
        "(A+B)^T=A^{T}+B^{T}\n",
        "$$"
      ]
    },
    {
      "cell_type": "code",
      "execution_count": 53,
      "metadata": {
        "autoscroll": false,
        "ein.hycell": false,
        "ein.tags": "worksheet-0",
        "id": "cQKD0ad-Vpz5",
        "colab": {
          "base_uri": "https://localhost:8080/",
          "height": 98
        },
        "outputId": "b13a1696-8ab4-409a-bcdf-181f0346feee"
      },
      "outputs": [
        {
          "output_type": "execute_result",
          "data": {
            "text/plain": [
              "<IPython.core.display.Latex object>"
            ],
            "text/latex": "\\left[ \\begin{array}{ccccc}8&7&6&7&6\\\\8&7&6&7&6\\\\17&11&9&5&3\\\\17&11&9&5&3\\\\ \\end{array} \\right]"
          },
          "metadata": {},
          "execution_count": 53
        }
      ],
      "source": [
        "# escriba aquí la parte izquierda de la ecuación: ~(A + B)\n",
        "Latex(latex(~(A+B)))"
      ]
    },
    {
      "cell_type": "code",
      "execution_count": 55,
      "metadata": {
        "autoscroll": false,
        "ein.hycell": false,
        "ein.tags": "worksheet-0",
        "id": "P8MSW33aVpz6",
        "colab": {
          "base_uri": "https://localhost:8080/",
          "height": 98
        },
        "outputId": "186ac277-332d-4b9f-e824-25d71bf21785"
      },
      "outputs": [
        {
          "output_type": "execute_result",
          "data": {
            "text/plain": [
              "<IPython.core.display.Latex object>"
            ],
            "text/latex": "\\left[ \\begin{array}{ccccc}8&7&6&7&6\\\\8&7&6&7&6\\\\17&11&9&5&3\\\\17&11&9&5&3\\\\ \\end{array} \\right]"
          },
          "metadata": {},
          "execution_count": 55
        }
      ],
      "source": [
        "# escriba aquí la parte derecha de la ecuación\n",
        "Latex(latex(~A+~B))"
      ]
    },
    {
      "cell_type": "markdown",
      "metadata": {
        "ein.tags": "worksheet-0",
        "id": "g2A04WcFVpz6"
      },
      "source": [
        "¿Necesitamos usar paréntesis para el lado izquierdo? ¿Y para el derecho?\n",
        "\n",
        "**Para el lado izquierdo si se necesitan parentesis para el derecho**"
      ]
    },
    {
      "cell_type": "markdown",
      "metadata": {
        "ein.tags": "worksheet-0",
        "id": "ZcOfdLECVpz7"
      },
      "source": [
        "Decida un valor para $\\lambda$ y verfique que\n",
        "$$\n",
        "(\\lambda A)^T=\\lambda(A^{T})\n",
        "$$"
      ]
    },
    {
      "cell_type": "code",
      "execution_count": 57,
      "metadata": {
        "autoscroll": false,
        "ein.hycell": false,
        "ein.tags": "worksheet-0",
        "id": "SVar9B-6Vpz7",
        "colab": {
          "base_uri": "https://localhost:8080/",
          "height": 98
        },
        "outputId": "44105bc1-6d41-4bce-e5c1-41bbda917d72"
      },
      "outputs": [
        {
          "output_type": "execute_result",
          "data": {
            "text/plain": [
              "<IPython.core.display.Latex object>"
            ],
            "text/latex": "\\left[ \\begin{array}{ccccc}6&12&18&24&30\\\\42&30&18&18&6\\\\48&54&18&24&12\\\\54&12&36&6&6\\\\ \\end{array} \\right]"
          },
          "metadata": {},
          "execution_count": 57
        }
      ],
      "source": [
        "# escriba aquí la parte izquierda de la ecuación:\n",
        "lamb=6\n",
        "Latex(latex(~(lamb*A)))"
      ]
    },
    {
      "cell_type": "code",
      "execution_count": 59,
      "metadata": {
        "autoscroll": false,
        "ein.hycell": false,
        "ein.tags": "worksheet-0",
        "id": "06Eys9o2Vpz8",
        "colab": {
          "base_uri": "https://localhost:8080/",
          "height": 98
        },
        "outputId": "69a8ce98-7dd4-4c51-fe31-8accecc30404"
      },
      "outputs": [
        {
          "output_type": "execute_result",
          "data": {
            "text/plain": [
              "<IPython.core.display.Latex object>"
            ],
            "text/latex": "\\left[ \\begin{array}{ccccc}6&12&18&24&30\\\\42&30&18&18&6\\\\48&54&18&24&12\\\\54&12&36&6&6\\\\ \\end{array} \\right]"
          },
          "metadata": {},
          "execution_count": 59
        }
      ],
      "source": [
        "# escriba aquí la parte derecha de la ecuación\n",
        "Latex(latex(lamb*~A))"
      ]
    }
  ]
}