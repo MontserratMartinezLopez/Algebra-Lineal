{
  "nbformat": 4,
  "nbformat_minor": 0,
  "metadata": {
    "colab": {
      "provenance": [],
      "authorship_tag": "ABX9TyN+xUopI2ph8Q/S2lY/u1t/",
      "include_colab_link": true
    },
    "kernelspec": {
      "name": "python3",
      "display_name": "Python 3"
    },
    "language_info": {
      "name": "python"
    }
  },
  "cells": [
    {
      "cell_type": "markdown",
      "metadata": {
        "id": "view-in-github",
        "colab_type": "text"
      },
      "source": [
        "<a href=\"https://colab.research.google.com/github/MontserratMartinezLopez/Algebra-Lineal/blob/main/Tarea3.ipynb\" target=\"_parent\"><img src=\"https://colab.research.google.com/assets/colab-badge.svg\" alt=\"Open In Colab\"/></a>"
      ]
    },
    {
      "cell_type": "markdown",
      "source": [
        "#Propiedades matriz por vector"
      ],
      "metadata": {
        "id": "u0FqmhtDfte8"
      }
    },
    {
      "cell_type": "code",
      "execution_count": 1,
      "metadata": {
        "colab": {
          "base_uri": "https://localhost:8080/"
        },
        "id": "x_PtMG-uehn9",
        "outputId": "dad87f9f-aad9-4552-d171-81a8ff467dbd"
      },
      "outputs": [
        {
          "output_type": "stream",
          "name": "stdout",
          "text": [
            "Collecting nacal\n",
            "  Downloading nacal-0.1.30-py3-none-any.whl (33 kB)\n",
            "Requirement already satisfied: sympy>=1.1.0 in /usr/local/lib/python3.10/dist-packages (from nacal) (1.12)\n",
            "Requirement already satisfied: mpmath>=0.19 in /usr/local/lib/python3.10/dist-packages (from sympy>=1.1.0->nacal) (1.3.0)\n",
            "Installing collected packages: nacal\n",
            "Successfully installed nacal-0.1.30\n"
          ]
        }
      ],
      "source": [
        "!pip install --target=$nb_path nacal\n",
        "from nacal import *\n",
        "from IPython.display import display, Math, Latex\n"
      ]
    },
    {
      "cell_type": "code",
      "source": [
        "a = Vector([1,4,5])\n",
        "b = Vector([9,8,7])\n",
        "c = Vector([3,5,6])\n",
        "A = Matrix([a,b,c])\n",
        "B = Matrix([c,b,a])\n",
        "display(Latex(latex(A)))"
      ],
      "metadata": {
        "colab": {
          "base_uri": "https://localhost:8080/",
          "height": 78
        },
        "id": "fVFfuq8xhA4p",
        "outputId": "161c3984-9b20-4e6b-eeb8-2de2f636ce44"
      },
      "execution_count": 9,
      "outputs": [
        {
          "output_type": "display_data",
          "data": {
            "text/plain": [
              "<IPython.core.display.Latex object>"
            ],
            "text/latex": "\\left[ \\begin{array}{ccc}1&9&3\\\\4&8&5\\\\5&7&6\\\\ \\end{array} \\right]"
          },
          "metadata": {}
        }
      ]
    },
    {
      "cell_type": "markdown",
      "source": [
        "Hemos visto varias propiedades que cumple la operación MATRIZ por vector\n",
        "###Propiedades de linealidad en el vector\n",
        "$$A (b + c) = Ab + Ac$$"
      ],
      "metadata": {
        "id": "whDyav5qgb7_"
      }
    },
    {
      "cell_type": "code",
      "source": [
        "display(Latex(latex(A*(b+c))))\n",
        "display(Latex(latex((A*b)+(A*c))))"
      ],
      "metadata": {
        "colab": {
          "base_uri": "https://localhost:8080/",
          "height": 139
        },
        "id": "NCkLxo9ag8EC",
        "outputId": "59b9185a-507b-4549-deea-61b653807741"
      },
      "execution_count": 5,
      "outputs": [
        {
          "output_type": "display_data",
          "data": {
            "text/plain": [
              "<IPython.core.display.Latex object>"
            ],
            "text/latex": "\\begin{pmatrix}168\\\\ 217\\\\ 229\\end{pmatrix}"
          },
          "metadata": {}
        },
        {
          "output_type": "display_data",
          "data": {
            "text/plain": [
              "<IPython.core.display.Latex object>"
            ],
            "text/latex": "\\begin{pmatrix}168\\\\ 217\\\\ 229\\end{pmatrix}"
          },
          "metadata": {}
        }
      ]
    },
    {
      "cell_type": "markdown",
      "source": [
        "$$A(λb) = λ(Ab)$$"
      ],
      "metadata": {
        "id": "FHznHAAMlItu"
      }
    },
    {
      "cell_type": "code",
      "source": [
        "display(Latex(latex(A*(6*b))))\n",
        "display(Latex(latex(6*(A*b))))"
      ],
      "metadata": {
        "colab": {
          "base_uri": "https://localhost:8080/",
          "height": 139
        },
        "id": "y3jYNpbmlRLU",
        "outputId": "4ea1da44-5222-4708-f1ec-68f3669edbed"
      },
      "execution_count": 7,
      "outputs": [
        {
          "output_type": "display_data",
          "data": {
            "text/plain": [
              "<IPython.core.display.Latex object>"
            ],
            "text/latex": "\\begin{pmatrix}612\\\\ 810\\\\ 858\\end{pmatrix}"
          },
          "metadata": {}
        },
        {
          "output_type": "display_data",
          "data": {
            "text/plain": [
              "<IPython.core.display.Latex object>"
            ],
            "text/latex": "\\begin{pmatrix}612\\\\ 810\\\\ 858\\end{pmatrix}"
          },
          "metadata": {}
        }
      ]
    },
    {
      "cell_type": "markdown",
      "source": [
        "$$A(Bc)=[A(B|1); . . . A(B|n)]c$$"
      ],
      "metadata": {
        "id": "mg4v11eQmHAg"
      }
    },
    {
      "cell_type": "code",
      "source": [
        "display(Latex(latex(A*(B*c))))"
      ],
      "metadata": {
        "colab": {
          "base_uri": "https://localhost:8080/",
          "height": 78
        },
        "id": "LP-OWq8-mq7n",
        "outputId": "a446c645-d5e0-47cc-c01a-f62a984b3d17"
      },
      "execution_count": 31,
      "outputs": [
        {
          "output_type": "display_data",
          "data": {
            "text/plain": [
              "<IPython.core.display.Latex object>"
            ],
            "text/latex": "\\begin{pmatrix}1020\\\\ 1287\\\\ 1351\\end{pmatrix}"
          },
          "metadata": {}
        }
      ]
    },
    {
      "cell_type": "markdown",
      "source": [
        "$$(A + B)c = Ac + Bc$$"
      ],
      "metadata": {
        "id": "_SxuA_dHpnXk"
      }
    },
    {
      "cell_type": "code",
      "source": [
        "display(Latex(latex((A+B)*c)))\n",
        "display(Latex(latex((A*c)+(B*c))))"
      ],
      "metadata": {
        "colab": {
          "base_uri": "https://localhost:8080/",
          "height": 139
        },
        "id": "AfgK2W3lpvMO",
        "outputId": "7f19662b-8890-46dd-b91d-30c053da293b"
      },
      "execution_count": 33,
      "outputs": [
        {
          "output_type": "display_data",
          "data": {
            "text/plain": [
              "<IPython.core.display.Latex object>"
            ],
            "text/latex": "\\begin{pmatrix}126\\\\ 161\\\\ 169\\end{pmatrix}"
          },
          "metadata": {}
        },
        {
          "output_type": "display_data",
          "data": {
            "text/plain": [
              "<IPython.core.display.Latex object>"
            ],
            "text/latex": "\\begin{pmatrix}126\\\\ 161\\\\ 169\\end{pmatrix}"
          },
          "metadata": {}
        }
      ]
    },
    {
      "cell_type": "markdown",
      "source": [
        "$$(λA)b = λ(Ab)$$"
      ],
      "metadata": {
        "id": "c6fucN2npugs"
      }
    },
    {
      "cell_type": "code",
      "source": [
        "display(Latex(latex((5*A)*b)))\n",
        "display(Latex(latex(5*(A*b))))"
      ],
      "metadata": {
        "colab": {
          "base_uri": "https://localhost:8080/",
          "height": 139
        },
        "id": "j1DxMr8Xp-ic",
        "outputId": "0ddcf054-530a-4b82-c37f-1c1f31a64d6a"
      },
      "execution_count": 36,
      "outputs": [
        {
          "output_type": "display_data",
          "data": {
            "text/plain": [
              "<IPython.core.display.Latex object>"
            ],
            "text/latex": "\\begin{pmatrix}510\\\\ 675\\\\ 715\\end{pmatrix}"
          },
          "metadata": {}
        },
        {
          "output_type": "display_data",
          "data": {
            "text/plain": [
              "<IPython.core.display.Latex object>"
            ],
            "text/latex": "\\begin{pmatrix}510\\\\ 675\\\\ 715\\end{pmatrix}"
          },
          "metadata": {}
        }
      ]
    }
  ]
}