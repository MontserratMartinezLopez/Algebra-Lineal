{
  "nbformat": 4,
  "nbformat_minor": 0,
  "metadata": {
    "colab": {
      "provenance": [],
      "authorship_tag": "ABX9TyO7xyxuHj9K0qZ7NSsaAZo5",
      "include_colab_link": true
    },
    "kernelspec": {
      "name": "python3",
      "display_name": "Python 3"
    },
    "language_info": {
      "name": "python"
    }
  },
  "cells": [
    {
      "cell_type": "markdown",
      "metadata": {
        "id": "view-in-github",
        "colab_type": "text"
      },
      "source": [
        "<a href=\"https://colab.research.google.com/github/MontserratMartinezLopez/Algebra-Lineal/blob/main/Tarea2.ipynb\" target=\"_parent\"><img src=\"https://colab.research.google.com/assets/colab-badge.svg\" alt=\"Open In Colab\"/></a>"
      ]
    },
    {
      "cell_type": "code",
      "source": [
        "!pip install --target=$nb_path nacal\n",
        "from nacal import *\n",
        "from IPython.display import display, Math, Latex"
      ],
      "metadata": {
        "colab": {
          "base_uri": "https://localhost:8080/"
        },
        "id": "kj4NDXl9QIYw",
        "outputId": "5e798ad5-77e8-4635-861f-6cea8a1cb01c"
      },
      "execution_count": 1,
      "outputs": [
        {
          "output_type": "stream",
          "name": "stdout",
          "text": [
            "Collecting nacal\n",
            "  Downloading nacal-0.1.30-py3-none-any.whl (33 kB)\n",
            "Requirement already satisfied: sympy>=1.1.0 in /usr/local/lib/python3.10/dist-packages (from nacal) (1.12)\n",
            "Requirement already satisfied: mpmath>=0.19 in /usr/local/lib/python3.10/dist-packages (from sympy>=1.1.0->nacal) (1.3.0)\n",
            "Installing collected packages: nacal\n",
            "Successfully installed nacal-0.1.30\n"
          ]
        }
      ]
    },
    {
      "cell_type": "markdown",
      "source": [
        "#Ejercicio 4\n",
        "¿Cómo evalúa el módulo NAcAL las siguientes expresiones?\n",
        "\n",
        "(a) $$3*b|1$$\n",
        "(b) $$3*1|b$$\n",
        "(c) $$1*3|b$$\n",
        "(d) $$1|b*3$$\n"
      ],
      "metadata": {
        "id": "PjOtK3BBNIbI"
      }
    },
    {
      "cell_type": "code",
      "execution_count": 3,
      "metadata": {
        "colab": {
          "base_uri": "https://localhost:8080/"
        },
        "id": "QVGrk559M4S0",
        "outputId": "32a8734e-25b2-4ab5-ad04-5fe94885c4b0"
      },
      "outputs": [
        {
          "output_type": "stream",
          "name": "stdout",
          "text": [
            "12\n",
            "6\n",
            "6\n",
            "12\n"
          ]
        }
      ],
      "source": [
        "b = Vector ([4,5,6,7,8])\n",
        "print(3*b|1)\n",
        "print(3*1|b)\n",
        "print(1*3|b)\n",
        "print(1|b*3)"
      ]
    },
    {
      "cell_type": "markdown",
      "source": [
        "#Ejercicio 6\n",
        "Demuestre las propiedades de la siguiente proposición.\n",
        "\n",
        "Proposición 1.5.1 (Propiedades de las operaciones entre matrices). Para cualesquiera matrices A, B y C\n",
        "de idéntico orden y para cualesquiera escalares λ y η, se verifica que:"
      ],
      "metadata": {
        "id": "L6nT_T5NNDvC"
      }
    },
    {
      "cell_type": "code",
      "source": [
        "a = Vector([1,4,5,6,7])\n",
        "b = Vector([9,8,7,6,5])\n",
        "c = Vector([3,5,6,7,4])\n",
        "A = Matrix([a,b,c])\n",
        "B = Matrix([c,b,a])\n",
        "C = Matrix([b,a,c])\n",
        "display(Latex(latex(A)))\n",
        "display(Latex(latex(B)))\n",
        "display(Latex(latex(C)))"
      ],
      "metadata": {
        "colab": {
          "base_uri": "https://localhost:8080/",
          "height": 322
        },
        "id": "VoS7H35LUhW6",
        "outputId": "99b91339-678d-4f7d-ae16-4410904fb5a2"
      },
      "execution_count": 8,
      "outputs": [
        {
          "output_type": "display_data",
          "data": {
            "text/plain": [
              "<IPython.core.display.Latex object>"
            ],
            "text/latex": "\\left[ \\begin{array}{ccc}1&9&3\\\\4&8&5\\\\5&7&6\\\\6&6&7\\\\7&5&4\\\\ \\end{array} \\right]"
          },
          "metadata": {}
        },
        {
          "output_type": "display_data",
          "data": {
            "text/plain": [
              "<IPython.core.display.Latex object>"
            ],
            "text/latex": "\\left[ \\begin{array}{ccc}3&9&1\\\\5&8&4\\\\6&7&5\\\\7&6&6\\\\4&5&7\\\\ \\end{array} \\right]"
          },
          "metadata": {}
        },
        {
          "output_type": "display_data",
          "data": {
            "text/plain": [
              "<IPython.core.display.Latex object>"
            ],
            "text/latex": "\\left[ \\begin{array}{ccc}9&1&3\\\\8&4&5\\\\7&5&6\\\\6&6&7\\\\5&7&4\\\\ \\end{array} \\right]"
          },
          "metadata": {}
        }
      ]
    },
    {
      "cell_type": "markdown",
      "source": [
        "(1)$$A + B = B + A$$"
      ],
      "metadata": {
        "id": "TK-UA0V5UndZ"
      }
    },
    {
      "cell_type": "code",
      "source": [
        "display(Latex(latex(A+B)))\n",
        "display(Latex(latex(B+A)))"
      ],
      "metadata": {
        "colab": {
          "base_uri": "https://localhost:8080/",
          "height": 220
        },
        "id": "-qKrYK3WXKZE",
        "outputId": "9a92c25a-41b9-43db-8bac-787a0a1622aa"
      },
      "execution_count": 10,
      "outputs": [
        {
          "output_type": "display_data",
          "data": {
            "text/plain": [
              "<IPython.core.display.Latex object>"
            ],
            "text/latex": "\\left[ \\begin{array}{ccc}4&18&4\\\\9&16&9\\\\11&14&11\\\\13&12&13\\\\11&10&11\\\\ \\end{array} \\right]"
          },
          "metadata": {}
        },
        {
          "output_type": "display_data",
          "data": {
            "text/plain": [
              "<IPython.core.display.Latex object>"
            ],
            "text/latex": "\\left[ \\begin{array}{ccc}4&18&4\\\\9&16&9\\\\11&14&11\\\\13&12&13\\\\11&10&11\\\\ \\end{array} \\right]"
          },
          "metadata": {}
        }
      ]
    },
    {
      "cell_type": "markdown",
      "source": [
        "(2)$$A + (B + C) = (A + B) + C$$"
      ],
      "metadata": {
        "id": "VPFgrEytXkz0"
      }
    },
    {
      "cell_type": "code",
      "source": [
        "display(Latex(latex(A+(B+C))))\n",
        "display(Latex(latex((A+B)+C)))"
      ],
      "metadata": {
        "colab": {
          "base_uri": "https://localhost:8080/",
          "height": 220
        },
        "id": "myRFx5WgYQYB",
        "outputId": "5b8e3878-15c5-425e-8351-69c2323a86a9"
      },
      "execution_count": 12,
      "outputs": [
        {
          "output_type": "display_data",
          "data": {
            "text/plain": [
              "<IPython.core.display.Latex object>"
            ],
            "text/latex": "\\left[ \\begin{array}{ccc}13&19&7\\\\17&20&14\\\\18&19&17\\\\19&18&20\\\\16&17&15\\\\ \\end{array} \\right]"
          },
          "metadata": {}
        },
        {
          "output_type": "display_data",
          "data": {
            "text/plain": [
              "<IPython.core.display.Latex object>"
            ],
            "text/latex": "\\left[ \\begin{array}{ccc}13&19&7\\\\17&20&14\\\\18&19&17\\\\19&18&20\\\\16&17&15\\\\ \\end{array} \\right]"
          },
          "metadata": {}
        }
      ]
    },
    {
      "cell_type": "markdown",
      "source": [
        "(3)$$0 + A = A$$"
      ],
      "metadata": {
        "id": "zLp0CwNfYjim"
      }
    },
    {
      "cell_type": "code",
      "source": [
        "display(Latex(latex(M0(5,3)+A)))\n",
        "Latex(latex(A))"
      ],
      "metadata": {
        "colab": {
          "base_uri": "https://localhost:8080/",
          "height": 220
        },
        "id": "Ai9atBGsYv3n",
        "outputId": "e8cd4803-6191-4c1b-c309-845c1ab6ee63"
      },
      "execution_count": 15,
      "outputs": [
        {
          "output_type": "display_data",
          "data": {
            "text/plain": [
              "<IPython.core.display.Latex object>"
            ],
            "text/latex": "\\left[ \\begin{array}{ccc}1&9&3\\\\4&8&5\\\\5&7&6\\\\6&6&7\\\\7&5&4\\\\ \\end{array} \\right]"
          },
          "metadata": {}
        },
        {
          "output_type": "execute_result",
          "data": {
            "text/plain": [
              "<IPython.core.display.Latex object>"
            ],
            "text/latex": "\\left[ \\begin{array}{ccc}1&9&3\\\\4&8&5\\\\5&7&6\\\\6&6&7\\\\7&5&4\\\\ \\end{array} \\right]"
          },
          "metadata": {},
          "execution_count": 15
        }
      ]
    },
    {
      "cell_type": "markdown",
      "source": [
        "(4)$$A + (−A) = 0$$"
      ],
      "metadata": {
        "id": "SfmhByWsaCLC"
      }
    },
    {
      "cell_type": "code",
      "source": [
        "display(Latex(latex(A+(-A))))"
      ],
      "metadata": {
        "colab": {
          "base_uri": "https://localhost:8080/",
          "height": 119
        },
        "id": "ADq7eXCtaLIm",
        "outputId": "001b3b5f-88ec-4752-bafb-3677b8889b9f"
      },
      "execution_count": 16,
      "outputs": [
        {
          "output_type": "display_data",
          "data": {
            "text/plain": [
              "<IPython.core.display.Latex object>"
            ],
            "text/latex": "\\left[ \\begin{array}{ccc}0&0&0\\\\0&0&0\\\\0&0&0\\\\0&0&0\\\\0&0&0\\\\ \\end{array} \\right]"
          },
          "metadata": {}
        }
      ]
    },
    {
      "cell_type": "markdown",
      "source": [
        "(5)$$λ(A + B) = λA + λB$$"
      ],
      "metadata": {
        "id": "6ZMaD87YbBiA"
      }
    },
    {
      "cell_type": "code",
      "source": [
        "display(Latex(latex(5*(A+B))))\n",
        "display(Latex(latex((5*A)+(5*B))))"
      ],
      "metadata": {
        "colab": {
          "base_uri": "https://localhost:8080/",
          "height": 220
        },
        "id": "Uj9RSFEubK-k",
        "outputId": "30d77fe4-8962-40a9-d112-7aa6a2047d7f"
      },
      "execution_count": 17,
      "outputs": [
        {
          "output_type": "display_data",
          "data": {
            "text/plain": [
              "<IPython.core.display.Latex object>"
            ],
            "text/latex": "\\left[ \\begin{array}{ccc}20&90&20\\\\45&80&45\\\\55&70&55\\\\65&60&65\\\\55&50&55\\\\ \\end{array} \\right]"
          },
          "metadata": {}
        },
        {
          "output_type": "display_data",
          "data": {
            "text/plain": [
              "<IPython.core.display.Latex object>"
            ],
            "text/latex": "\\left[ \\begin{array}{ccc}20&90&20\\\\45&80&45\\\\55&70&55\\\\65&60&65\\\\55&50&55\\\\ \\end{array} \\right]"
          },
          "metadata": {}
        }
      ]
    },
    {
      "cell_type": "markdown",
      "source": [
        "(6)$$(λ + η)A = λA + ηA$$\n"
      ],
      "metadata": {
        "id": "By0UzrPEbqbi"
      }
    },
    {
      "cell_type": "code",
      "source": [
        "display(Latex(latex(((5+8)*A))))\n",
        "display(Latex(latex((5*A)+(8*A))))"
      ],
      "metadata": {
        "colab": {
          "base_uri": "https://localhost:8080/",
          "height": 220
        },
        "id": "nazg9vVxb0uT",
        "outputId": "cac453bb-d988-49b8-8222-8ecf45b40795"
      },
      "execution_count": 19,
      "outputs": [
        {
          "output_type": "display_data",
          "data": {
            "text/plain": [
              "<IPython.core.display.Latex object>"
            ],
            "text/latex": "\\left[ \\begin{array}{ccc}13&117&39\\\\52&104&65\\\\65&91&78\\\\78&78&91\\\\91&65&52\\\\ \\end{array} \\right]"
          },
          "metadata": {}
        },
        {
          "output_type": "display_data",
          "data": {
            "text/plain": [
              "<IPython.core.display.Latex object>"
            ],
            "text/latex": "\\left[ \\begin{array}{ccc}13&117&39\\\\52&104&65\\\\65&91&78\\\\78&78&91\\\\91&65&52\\\\ \\end{array} \\right]"
          },
          "metadata": {}
        }
      ]
    },
    {
      "cell_type": "markdown",
      "source": [
        "(7)$$λ(ηA) = (λη)A$$"
      ],
      "metadata": {
        "id": "SQptw1QJcKhC"
      }
    },
    {
      "cell_type": "code",
      "source": [
        "display(Latex(latex(5*(6*A))))\n",
        "display(Latex(latex((5*6)*A)))"
      ],
      "metadata": {
        "colab": {
          "base_uri": "https://localhost:8080/",
          "height": 220
        },
        "id": "QsB_a6Tecchd",
        "outputId": "708c87a3-e9f3-4222-a94a-8f54baf44e10"
      },
      "execution_count": 21,
      "outputs": [
        {
          "output_type": "display_data",
          "data": {
            "text/plain": [
              "<IPython.core.display.Latex object>"
            ],
            "text/latex": "\\left[ \\begin{array}{ccc}30&270&90\\\\120&240&150\\\\150&210&180\\\\180&180&210\\\\210&150&120\\\\ \\end{array} \\right]"
          },
          "metadata": {}
        },
        {
          "output_type": "display_data",
          "data": {
            "text/plain": [
              "<IPython.core.display.Latex object>"
            ],
            "text/latex": "\\left[ \\begin{array}{ccc}30&270&90\\\\120&240&150\\\\150&210&180\\\\180&180&210\\\\210&150&120\\\\ \\end{array} \\right]"
          },
          "metadata": {}
        }
      ]
    },
    {
      "cell_type": "markdown",
      "source": [
        "(8)$$1A = A$$"
      ],
      "metadata": {
        "id": "PaR7n2Gmc1pl"
      }
    },
    {
      "cell_type": "code",
      "source": [
        "display(Latex(latex(1*A)))\n",
        "display(Latex(latex(A)))"
      ],
      "metadata": {
        "colab": {
          "base_uri": "https://localhost:8080/",
          "height": 220
        },
        "id": "hRruuiZ6c472",
        "outputId": "0861d55e-fd72-4040-dc71-25fc50359b4a"
      },
      "execution_count": 22,
      "outputs": [
        {
          "output_type": "display_data",
          "data": {
            "text/plain": [
              "<IPython.core.display.Latex object>"
            ],
            "text/latex": "\\left[ \\begin{array}{ccc}1&9&3\\\\4&8&5\\\\5&7&6\\\\6&6&7\\\\7&5&4\\\\ \\end{array} \\right]"
          },
          "metadata": {}
        },
        {
          "output_type": "display_data",
          "data": {
            "text/plain": [
              "<IPython.core.display.Latex object>"
            ],
            "text/latex": "\\left[ \\begin{array}{ccc}1&9&3\\\\4&8&5\\\\5&7&6\\\\6&6&7\\\\7&5&4\\\\ \\end{array} \\right]"
          },
          "metadata": {}
        }
      ]
    }
  ]
}