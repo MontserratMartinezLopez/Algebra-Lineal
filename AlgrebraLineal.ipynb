{
  "nbformat": 4,
  "nbformat_minor": 0,
  "metadata": {
    "colab": {
      "provenance": [],
      "include_colab_link": true
    },
    "kernelspec": {
      "name": "python3",
      "display_name": "Python 3"
    },
    "language_info": {
      "name": "python"
    }
  },
  "cells": [
    {
      "cell_type": "markdown",
      "metadata": {
        "id": "view-in-github",
        "colab_type": "text"
      },
      "source": [
        "<a href=\"https://colab.research.google.com/github/MontserratMartinezLopez/Algebra-Lineal/blob/main/AlgrebraLineal.ipynb\" target=\"_parent\"><img src=\"https://colab.research.google.com/assets/colab-badge.svg\" alt=\"Open In Colab\"/></a>"
      ]
    },
    {
      "cell_type": "markdown",
      "source": [
        "#Tarea 1\n",
        "A continuacion se resuelven las preguntas de las paginas **8** y **9** del libro\n"
      ],
      "metadata": {
        "id": "uc2GiTmO75ll"
      }
    },
    {
      "cell_type": "code",
      "execution_count": 1,
      "metadata": {
        "colab": {
          "base_uri": "https://localhost:8080/"
        },
        "id": "yzK9L7tK71-g",
        "outputId": "70511902-77ae-4472-d970-0443d4093241"
      },
      "outputs": [
        {
          "output_type": "stream",
          "name": "stdout",
          "text": [
            "Mounted at /content/drive\n"
          ]
        }
      ],
      "source": [
        "\n",
        "import os, sys\n",
        "from google.colab import drive\n",
        "drive.mount('/content/drive')\n",
        "nb_path = '/content/notebooks'\n",
        "os.symlink('/content/drive/My Drive/Colab Notebooks', nb_path)\n",
        "sys.path.insert(0,nb_path)"
      ]
    },
    {
      "cell_type": "code",
      "source": [
        "\n",
        "!pip install --target=$nb_path nacal\n",
        "from nacal import *\n",
        "from IPython.display import display, Math, Latex"
      ],
      "metadata": {
        "id": "FyJMxjoXFktd",
        "colab": {
          "base_uri": "https://localhost:8080/"
        },
        "outputId": "a42e014b-e3ad-426b-c57f-b92ace68198e"
      },
      "execution_count": 2,
      "outputs": [
        {
          "output_type": "stream",
          "name": "stdout",
          "text": [
            "Collecting nacal\n",
            "  Downloading nacal-0.1.30-py3-none-any.whl (33 kB)\n",
            "Collecting sympy>=1.1.0 (from nacal)\n",
            "  Downloading sympy-1.12-py3-none-any.whl (5.7 MB)\n",
            "\u001b[2K     \u001b[90m━━━━━━━━━━━━━━━━━━━━━━━━━━━━━━━━━━━━━━━━\u001b[0m \u001b[32m5.7/5.7 MB\u001b[0m \u001b[31m58.3 MB/s\u001b[0m eta \u001b[36m0:00:00\u001b[0m\n",
            "\u001b[?25hCollecting mpmath>=0.19 (from sympy>=1.1.0->nacal)\n",
            "  Downloading mpmath-1.3.0-py3-none-any.whl (536 kB)\n",
            "\u001b[2K     \u001b[90m━━━━━━━━━━━━━━━━━━━━━━━━━━━━━━━━━━━━━━━━\u001b[0m \u001b[32m536.2/536.2 kB\u001b[0m \u001b[31m48.1 MB/s\u001b[0m eta \u001b[36m0:00:00\u001b[0m\n",
            "\u001b[?25hInstalling collected packages: mpmath, sympy, nacal\n",
            "Successfully installed mpmath-1.3.0 nacal-0.1.30 sympy-1.12\n"
          ]
        }
      ]
    },
    {
      "cell_type": "code",
      "source": [
        "\n",
        "b = Vector( [0, 4, 6] )\n",
        "print(2*b)\n",
        "display(Latex(latex(2*b)))\n",
        "Latex(latex(3*b))"
      ],
      "metadata": {
        "colab": {
          "base_uri": "https://localhost:8080/",
          "height": 156
        },
        "id": "VdO_fn5w-ob-",
        "outputId": "58d27565-dfa4-4b92-c9d7-b9d1dea51cb7"
      },
      "execution_count": 8,
      "outputs": [
        {
          "output_type": "stream",
          "name": "stdout",
          "text": [
            "Vector([0, 8, 12])\n"
          ]
        },
        {
          "output_type": "display_data",
          "data": {
            "text/plain": [
              "<IPython.core.display.Latex object>"
            ],
            "text/latex": "\\begin{pmatrix}0\\\\ 8\\\\ 12\\end{pmatrix}"
          },
          "metadata": {}
        },
        {
          "output_type": "execute_result",
          "data": {
            "text/plain": [
              "<IPython.core.display.Latex object>"
            ],
            "text/latex": "\\begin{pmatrix}0\\\\ 12\\\\ 18\\end{pmatrix}"
          },
          "metadata": {},
          "execution_count": 8
        }
      ]
    },
    {
      "cell_type": "markdown",
      "source": [
        "##PREGUNTA 1\n",
        "¿Es verdad que $$\\begin{pmatrix}1\\\\2\\\\3\\\\\\end{pmatrix}+\\begin{pmatrix}4\\\\5\\\\6\\\\\\end{pmatrix}=\\begin{pmatrix}4\\\\5\\\\6\\\\\\end{pmatrix}+\\begin{pmatrix}1\\\\2\\\\3\\\\\\end{pmatrix}$$\n",
        "\n",
        "¿Es cierto solo para los números del ejemplo? o ¿es una regla general para cualquier par de vectores?"
      ],
      "metadata": {
        "id": "n12Ms6TdAUDR"
      }
    },
    {
      "cell_type": "code",
      "source": [
        "a = Vector( [2, 4, 6] )\n",
        "b = Vector( [8, 10, 12] )\n",
        "display(Latex(latex(a+b)))\n",
        "display(Latex(latex(b+a)))"
      ],
      "metadata": {
        "colab": {
          "base_uri": "https://localhost:8080/",
          "height": 139
        },
        "id": "4nwE_IEfEWE_",
        "outputId": "eaca4331-f4b6-4466-f51b-bc0cee98dc1a"
      },
      "execution_count": 9,
      "outputs": [
        {
          "output_type": "display_data",
          "data": {
            "text/plain": [
              "<IPython.core.display.Latex object>"
            ],
            "text/latex": "\\begin{pmatrix}10\\\\ 14\\\\ 18\\end{pmatrix}"
          },
          "metadata": {}
        },
        {
          "output_type": "display_data",
          "data": {
            "text/plain": [
              "<IPython.core.display.Latex object>"
            ],
            "text/latex": "\\begin{pmatrix}10\\\\ 14\\\\ 18\\end{pmatrix}"
          },
          "metadata": {}
        }
      ]
    },
    {
      "cell_type": "markdown",
      "source": [
        "###Respuesta\n",
        "Es verdad para cualquier par de vectores"
      ],
      "metadata": {
        "id": "nEEDjqrUFacl"
      }
    },
    {
      "cell_type": "markdown",
      "source": [
        "##Pregunta 2\n",
        "¿Es verdad que $$\\begin{pmatrix}1\\\\2\\\\\\end{pmatrix}\\begin{pmatrix}\\begin{pmatrix}4\\\\5\\\\\\end{pmatrix}+\\begin{pmatrix}1\\\\0\\\\\\end{pmatrix}\\end{pmatrix}=\\begin{pmatrix}\\begin{pmatrix}1\\\\2\\\\\\end{pmatrix}+\\begin{pmatrix}4\\\\5\\\\\\end{pmatrix}\\end{pmatrix}+\\begin{pmatrix}1\\\\0\\\\\\end{pmatrix}$$\n",
        "*El parentesis significa que primero hay que hacer la suma dentro del parentesis, y al vector resultante sumarle el vector de fuera.*\n",
        "\n",
        "¿Es cierto solo para los números del ejemplo? o ¿es una regla general para cualquier trio de vectores?"
      ],
      "metadata": {
        "id": "l1EzexsaFmLo"
      }
    },
    {
      "cell_type": "code",
      "source": [
        "a=Vector([1,2])\n",
        "b=Vector([4,5])\n",
        "c=Vector([1,0])\n",
        "display(Latex(latex(a+(b+c))))\n",
        "display(Latex(latex((a+b)+c)))"
      ],
      "metadata": {
        "colab": {
          "base_uri": "https://localhost:8080/",
          "height": 98
        },
        "id": "3RobjWrK2t-p",
        "outputId": "f583307b-b665-4d26-a117-e5468b3b2d30"
      },
      "execution_count": null,
      "outputs": [
        {
          "output_type": "display_data",
          "data": {
            "text/plain": [
              "<IPython.core.display.Latex object>"
            ],
            "text/latex": "\\begin{pmatrix}6\\\\ 7\\end{pmatrix}"
          },
          "metadata": {}
        },
        {
          "output_type": "display_data",
          "data": {
            "text/plain": [
              "<IPython.core.display.Latex object>"
            ],
            "text/latex": "\\begin{pmatrix}6\\\\ 7\\end{pmatrix}"
          },
          "metadata": {}
        }
      ]
    },
    {
      "cell_type": "markdown",
      "source": [
        "### Respuesta\n",
        "Esto es cierto para cualquier numero trio de vectores"
      ],
      "metadata": {
        "id": "XY9V2tWC7REZ"
      }
    },
    {
      "cell_type": "markdown",
      "source": [
        "## Pregunta 3\n",
        "¿Es verdad que $$\\begin{pmatrix}4\\\\5\\\\6\\\\\\end{pmatrix}+\\begin{pmatrix}0\\\\0\\\\0\\\\\\end{pmatrix}=\\begin{pmatrix}4\\\\5\\\\6\\\\\\end{pmatrix}$$\n",
        "\n",
        "¿Es cierto solo para los vectores del ejemplo? o ¿Es una regla general para cualquier par de vectores?"
      ],
      "metadata": {
        "id": "2tkIOvmn7nfQ"
      }
    },
    {
      "cell_type": "code",
      "source": [
        "a=Vector([4,5,6])\n",
        "b=Vector([7,8,9])\n",
        "c=Vector([0,0,0])\n",
        "display(Latex(latex(a+c)))\n",
        "display(Latex(latex(b+c)))"
      ],
      "metadata": {
        "colab": {
          "base_uri": "https://localhost:8080/",
          "height": 139
        },
        "id": "S_p3wY6d8lVh",
        "outputId": "e6e47990-a5ff-4dc4-b250-6c77781cf5ca"
      },
      "execution_count": null,
      "outputs": [
        {
          "output_type": "display_data",
          "data": {
            "text/plain": [
              "<IPython.core.display.Latex object>"
            ],
            "text/latex": "\\begin{pmatrix}4\\\\ 5\\\\ 6\\end{pmatrix}"
          },
          "metadata": {}
        },
        {
          "output_type": "display_data",
          "data": {
            "text/plain": [
              "<IPython.core.display.Latex object>"
            ],
            "text/latex": "\\begin{pmatrix}7\\\\ 8\\\\ 9\\end{pmatrix}"
          },
          "metadata": {}
        }
      ]
    },
    {
      "cell_type": "markdown",
      "source": [
        "### Respuesta\n",
        "Esto es cierto para cualquier par de vectores"
      ],
      "metadata": {
        "id": "Gfkr1VaR9ZUn"
      }
    },
    {
      "cell_type": "markdown",
      "source": [
        "## Pregunta 4\n",
        "\n",
        "¿Es verdad que $$\\begin{pmatrix}4\\\\5\\\\6\\\\\\end{pmatrix}+\\begin{pmatrix}-4\\\\-5\\\\-6\\\\\\end{pmatrix}=\\begin{pmatrix}0\\\\0\\\\0\\\\\\end{pmatrix}$$\n",
        "\n",
        "¿Es cierto solo para los vectores del ejemplo? o ¿es una regla general para cualquier par de vectores?"
      ],
      "metadata": {
        "id": "eC0icqQJ9jmX"
      }
    },
    {
      "cell_type": "code",
      "source": [
        "a=Vector([4,5,6])\n",
        "b=Vector([-4,-5,-6])\n",
        "c=Vector([7,8,9])\n",
        "d=Vector([-7,-8,-9])\n",
        "display(Latex(latex(a+b)))\n",
        "display(Latex(latex(c+d)))"
      ],
      "metadata": {
        "colab": {
          "base_uri": "https://localhost:8080/",
          "height": 139
        },
        "id": "28gQ08HQ97qo",
        "outputId": "d82db6f9-881b-4461-ba9c-4924dec295b1"
      },
      "execution_count": null,
      "outputs": [
        {
          "output_type": "display_data",
          "data": {
            "text/plain": [
              "<IPython.core.display.Latex object>"
            ],
            "text/latex": "\\begin{pmatrix}0\\\\ 0\\\\ 0\\end{pmatrix}"
          },
          "metadata": {}
        },
        {
          "output_type": "display_data",
          "data": {
            "text/plain": [
              "<IPython.core.display.Latex object>"
            ],
            "text/latex": "\\begin{pmatrix}0\\\\ 0\\\\ 0\\end{pmatrix}"
          },
          "metadata": {}
        }
      ]
    },
    {
      "cell_type": "markdown",
      "source": [
        "### Respuesta\n",
        "Esto es cierto para cualquier par de vectores"
      ],
      "metadata": {
        "id": "oK5ZncRF-ZHX"
      }
    },
    {
      "cell_type": "markdown",
      "source": [
        "## Pregunta 5\n",
        "\n",
        "¿Es verdad que $$2\\begin{pmatrix}\\begin{pmatrix}1\\\\-1\\\\\\end{pmatrix}+\\begin{pmatrix}4\\\\5\\\\\\end{pmatrix}\\end{pmatrix}=2\\begin{pmatrix}1\\\\-1\\\\\\end{pmatrix}+2\\begin{pmatrix}4\\\\5\\\\\\end{pmatrix}$$\n",
        "\n",
        "¿Es una regla general para cualquier par de vectores? ¿Y si cambiamos el escalar 2 por otro número?\n"
      ],
      "metadata": {
        "id": "wum_iuec_FPO"
      }
    },
    {
      "cell_type": "code",
      "source": [
        "a=Vector([1,-1])\n",
        "b=Vector([4,5])\n",
        "display(Latex(latex(2*(a+b))))\n",
        "display(Latex(latex((2*a)+(2*b))))\n",
        "display(Latex(latex(3*(a+b))))\n",
        "display(Latex(latex((3*a)+(3*b))))\n"
      ],
      "metadata": {
        "colab": {
          "base_uri": "https://localhost:8080/",
          "height": 180
        },
        "id": "E8iLayW4AG_P",
        "outputId": "345750b1-a0c1-4f18-9f4c-2440e42866f5"
      },
      "execution_count": null,
      "outputs": [
        {
          "output_type": "display_data",
          "data": {
            "text/plain": [
              "<IPython.core.display.Latex object>"
            ],
            "text/latex": "\\begin{pmatrix}10\\\\ 8\\end{pmatrix}"
          },
          "metadata": {}
        },
        {
          "output_type": "display_data",
          "data": {
            "text/plain": [
              "<IPython.core.display.Latex object>"
            ],
            "text/latex": "\\begin{pmatrix}10\\\\ 8\\end{pmatrix}"
          },
          "metadata": {}
        },
        {
          "output_type": "display_data",
          "data": {
            "text/plain": [
              "<IPython.core.display.Latex object>"
            ],
            "text/latex": "\\begin{pmatrix}15\\\\ 12\\end{pmatrix}"
          },
          "metadata": {}
        },
        {
          "output_type": "display_data",
          "data": {
            "text/plain": [
              "<IPython.core.display.Latex object>"
            ],
            "text/latex": "\\begin{pmatrix}15\\\\ 12\\end{pmatrix}"
          },
          "metadata": {}
        }
      ]
    },
    {
      "cell_type": "markdown",
      "source": [
        "### Respuesta\n",
        "Esta es una regla general para cualquier par de vectores\n",
        "\n",
        "Si cambiamos el escalar se sigue cumpliendo la condicion"
      ],
      "metadata": {
        "id": "subuH3bFAsGu"
      }
    },
    {
      "cell_type": "markdown",
      "source": [
        "## Pregunta 6\n",
        "\n",
        "¿Es verdad que $$(2+3)\\begin{pmatrix}1\\\\2\\\\3\\\\\\end{pmatrix}=2\\begin{pmatrix}1\\\\2\\\\3\\\\\\end{pmatrix}+3\\begin{pmatrix}1\\\\2\\\\3\\\\\\end{pmatrix}$$\n",
        "\n",
        "¿Es una regla general para cualquier par de vectores? ¿y si cambiamos los escalares **2** y **3** por otros números?"
      ],
      "metadata": {
        "id": "YSIc8CcUBFwO"
      }
    },
    {
      "cell_type": "code",
      "source": [
        "a=Vector([1,2,3])\n",
        "display(Latex(latex((2+3)*a)))\n",
        "display(Latex(latex((2*a)+(3*a))))\n",
        "display(Latex(latex((4+5)*a)))\n",
        "display(Latex(latex((4*a)+(5*a))))"
      ],
      "metadata": {
        "colab": {
          "base_uri": "https://localhost:8080/",
          "height": 261
        },
        "id": "imxgo6w5CED3",
        "outputId": "2f72db2b-72c9-4c67-9193-63abb30673cf"
      },
      "execution_count": null,
      "outputs": [
        {
          "output_type": "display_data",
          "data": {
            "text/plain": [
              "<IPython.core.display.Latex object>"
            ],
            "text/latex": "\\begin{pmatrix}5\\\\ 10\\\\ 15\\end{pmatrix}"
          },
          "metadata": {}
        },
        {
          "output_type": "display_data",
          "data": {
            "text/plain": [
              "<IPython.core.display.Latex object>"
            ],
            "text/latex": "\\begin{pmatrix}5\\\\ 10\\\\ 15\\end{pmatrix}"
          },
          "metadata": {}
        },
        {
          "output_type": "display_data",
          "data": {
            "text/plain": [
              "<IPython.core.display.Latex object>"
            ],
            "text/latex": "\\begin{pmatrix}9\\\\ 18\\\\ 27\\end{pmatrix}"
          },
          "metadata": {}
        },
        {
          "output_type": "display_data",
          "data": {
            "text/plain": [
              "<IPython.core.display.Latex object>"
            ],
            "text/latex": "\\begin{pmatrix}9\\\\ 18\\\\ 27\\end{pmatrix}"
          },
          "metadata": {}
        }
      ]
    },
    {
      "cell_type": "markdown",
      "source": [
        "### Respuesta\n",
        "Es una regla para cualquier par de vectores\n",
        "\n",
        "Si cambiamos los escalares se sigue manteniendo la regla"
      ],
      "metadata": {
        "id": "VDyrXkr6CpC7"
      }
    },
    {
      "cell_type": "markdown",
      "source": [
        "## Pregunta 7\n",
        "\n",
        "¿Es verdad que $$2(3\\begin{pmatrix}1\\\\2\\\\\\end{pmatrix})=(2*3)\\begin{pmatrix}1\\\\2\\\\\\end{pmatrix}$$\n",
        "\n",
        "¿Es una regla general para cualquier par de vectores? ¿y si cambiamos los escalares **2** y **3** por otros números?\n"
      ],
      "metadata": {
        "id": "KXYfJwCzCyPS"
      }
    },
    {
      "cell_type": "code",
      "source": [
        "a=Vector([1,2])\n",
        "display(Latex(latex((2*(3*a)))))\n",
        "display(Latex(latex((2*3)*a)))\n",
        "display(Latex(latex((4*(5*a)))))\n",
        "display(Latex(latex((4*5)*a)))"
      ],
      "metadata": {
        "colab": {
          "base_uri": "https://localhost:8080/",
          "height": 180
        },
        "id": "Z8hTanamDolK",
        "outputId": "3ba35df3-88f1-487b-ec5b-2b2b9810b50c"
      },
      "execution_count": null,
      "outputs": [
        {
          "output_type": "display_data",
          "data": {
            "text/plain": [
              "<IPython.core.display.Latex object>"
            ],
            "text/latex": "\\begin{pmatrix}6\\\\ 12\\end{pmatrix}"
          },
          "metadata": {}
        },
        {
          "output_type": "display_data",
          "data": {
            "text/plain": [
              "<IPython.core.display.Latex object>"
            ],
            "text/latex": "\\begin{pmatrix}6\\\\ 12\\end{pmatrix}"
          },
          "metadata": {}
        },
        {
          "output_type": "display_data",
          "data": {
            "text/plain": [
              "<IPython.core.display.Latex object>"
            ],
            "text/latex": "\\begin{pmatrix}20\\\\ 40\\end{pmatrix}"
          },
          "metadata": {}
        },
        {
          "output_type": "display_data",
          "data": {
            "text/plain": [
              "<IPython.core.display.Latex object>"
            ],
            "text/latex": "\\begin{pmatrix}20\\\\ 40\\end{pmatrix}"
          },
          "metadata": {}
        }
      ]
    },
    {
      "cell_type": "markdown",
      "source": [
        "### Respuesta\n",
        "Es una regla para cualquier par de vectores\n",
        "\n",
        "Si cambiamos los escalares se sigue manteniendo la regla"
      ],
      "metadata": {
        "id": "FCNKiftHEDpw"
      }
    },
    {
      "cell_type": "markdown",
      "source": [
        "## Pregunta 8\n",
        "\n",
        "¿Es verdad que si *a = 1* $$a\\begin{pmatrix}1\\\\2\\\\3\\\\\\end{pmatrix}=\\begin{pmatrix}1\\\\2\\\\3\\\\\\end{pmatrix}$$\n",
        "\n",
        "¿Es cierto solo para el escalar *a = 1*?\n"
      ],
      "metadata": {
        "id": "_FoXLbS6EGUX"
      }
    },
    {
      "cell_type": "code",
      "source": [
        "a=Vector([1,2,3])\n",
        "display(Latex(latex(1*a)))"
      ],
      "metadata": {
        "colab": {
          "base_uri": "https://localhost:8080/",
          "height": 78
        },
        "id": "fienYbJJE2ET",
        "outputId": "a5d92a37-e055-49f1-df82-f63714f9a7ea"
      },
      "execution_count": null,
      "outputs": [
        {
          "output_type": "display_data",
          "data": {
            "text/plain": [
              "<IPython.core.display.Latex object>"
            ],
            "text/latex": "\\begin{pmatrix}1\\\\ 2\\\\ 3\\end{pmatrix}"
          },
          "metadata": {}
        }
      ]
    },
    {
      "cell_type": "markdown",
      "source": [
        "### Respuesta\n",
        "\n",
        "Solo es cierto para el escalar *a = 1* ya que si cambiamos el escalar nos dara un vector distinto"
      ],
      "metadata": {
        "id": "wwfP9J9bFDpS"
      }
    }
  ]
}